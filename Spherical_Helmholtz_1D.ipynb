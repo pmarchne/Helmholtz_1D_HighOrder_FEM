{
 "cells": [
  {
   "cell_type": "code",
   "execution_count": 1,
   "metadata": {},
   "outputs": [],
   "source": [
    "import numpy as np\n",
    "import matplotlib.pyplot as plt\n",
    "from matplotlib import cm\n",
    "import math\n",
    "from ipywidgets import interactive\n",
    "import ipywidgets as widgets\n",
    "\n",
    "# for dark theme aficionados\n",
    "plt.style.use('dark_background')"
   ]
  },
  {
   "cell_type": "markdown",
   "metadata": {},
   "source": [
    "## Problem description\n",
    "We propose to solve the 1D Helmholtz equation written in spherical coordinates. The problem is specified by \n",
    "- the physical domain $r \\in [R_0,R]$\n",
    "- a Neumann boundary condition at $r=R_0>0$\n",
    "- a Robin absorbing boundary condition at $r=R$\n",
    "\n",
    "The complex valued acoustic pressure $u(x)$ in the physical domain is governed by the following scalar Helmholtz equation:\n",
    "\n",
    "$$ \\frac{d^2u}{dr^2} + \\frac{2}{r} \\frac{du}{dr} + \\left(k^2 - \\frac{\\ell(\\ell+1)}{r^2}\\right) u = 0, \\; \\text{in} \\; \\Omega $$\n",
    "\n",
    "where $k=\\omega/c_0$ is the acosutic wavenumber, and $c_0$ the speed of sound. For a fixed value $\\ell \\in \\mathbb{N}$, the analytical solution ($-\\imath \\omega t$ convention) is given by the spherical Hankel function\n",
    "\n",
    "$$ u_{\\text{ex}}(r) = A_{\\ell} h^{(1)}_{\\ell} (kr) $$\n",
    "\n",
    "The boundary condition at $r=R_0$ defines the value of $A_{\\ell}$ through the relation\n",
    "\n",
    "$$ \\left.\\begin{matrix} \\frac{d u_{\\text{ex}}}{d r} \\end{matrix}\\right|_{r=R_0} = A_{\\ell} k \\left( -h^{(1)}_{\\ell+1} (kR_0)  + \\frac{\\ell}{k R_0} h^{(1)}_{\\ell} (kR_0) \\right) $$\n",
    "\n",
    "We will solve the problem thanks to a continuous Galerkin method, which leads after integrating by parts to the variational problem:\n",
    "\n",
    "Find $u \\in H^1(\\Omega)$ such that:\n",
    "\n",
    "$$ \\forall v \\in H^1(\\Omega), \\quad \\int_{R_0}^R \\left\\{ \\frac{d u}{d r} \\overline{\\frac{d v}{d r}} - \\frac{2}{r} \\frac{d u}{d r} \\overline{v} - \\left(k^2 - \\frac{\\ell(\\ell+1)}{r^2}\\right) u \\overline{v} \\right\\} \\, \\text{d}r  = \\left[ \\frac{\\partial u}{\\partial n} \\overline{v} \\right]_{R_0}^R$$\n",
    "\n"
   ]
  },
  {
   "cell_type": "markdown",
   "metadata": {},
   "source": [
    "Let us initiate the numerical model"
   ]
  },
  {
   "cell_type": "code",
   "execution_count": 2,
   "metadata": {},
   "outputs": [],
   "source": [
    "from ExternalFunctions import Mesh1D, CreateDofs\n",
    "def initiate(DuctLength, NrOfElem, Order, R0):\n",
    "    NrOfNodes, Coord, Element = Mesh1D(DuctLength, NrOfElem, R0)\n",
    "    NrOfDofs, DofNode, DofElement = CreateDofs(NrOfNodes,NrOfElem,Element,Order)\n",
    "    return NrOfNodes, Coord, Element, NrOfDofs, DofNode, DofElement"
   ]
  },
  {
   "cell_type": "code",
   "execution_count": 3,
   "metadata": {},
   "outputs": [],
   "source": [
    "def assemble_matrix(NrOfDofs,NrOfElem,Order,Coord,Element,DofElement,k,l):\n",
    "    from ExternalFunctions import MassAndStiffness_spherical_1D\n",
    "    Matrix = np.zeros((NrOfDofs,NrOfDofs), dtype=np.complex128)\n",
    "    for iElem in np.arange(0,NrOfElem):\n",
    "        # call the function returning the mass and stifness element matrices\n",
    "        Ke, Ce, Me, Me_r2 = MassAndStiffness_spherical_1D(iElem, Order, Coord, Element)\n",
    "        ElemDofs = (DofElement[:,iElem]).astype(int)\n",
    "        # assemble\n",
    "        Matrix[np.ix_(ElemDofs,ElemDofs)] += Ke - 2*Ce - k**2*Me + (l*(l+1))*Me_r2\n",
    "    return Matrix"
   ]
  },
  {
   "cell_type": "code",
   "execution_count": 4,
   "metadata": {},
   "outputs": [],
   "source": [
    "def assemble_impedance(Matrix,DofNode,NrOfNodes,k,R0,DuctLength):\n",
    "    # now apply impedance boundary condition at last node (BGT-1)\n",
    "    Matrix[DofNode[NrOfNodes-1],DofNode[NrOfNodes-1]] += - ( 1j*k - 1/(2*(R0 + DuctLength)) )\n",
    "    return Matrix\n",
    "\t\n",
    "def assemble_rhs(NrOfDofs,DofNode,k,R0,l,Al):\n",
    "    from AnalyticalSolutions import d_spherical_hankel\n",
    "    # and the velocity at first node\n",
    "    Rhs = np.zeros((NrOfDofs,1), dtype=np.complex128)\n",
    "    Rhs[DofNode[0]] = -Al*k*d_spherical_hankel(l,k*R0)\n",
    "    return Rhs"
   ]
  },
  {
   "cell_type": "code",
   "execution_count": 5,
   "metadata": {},
   "outputs": [],
   "source": [
    "def solve(Matrix, Rhs):\n",
    "    # solve the sparse system of equations \n",
    "    Sol = np.linalg.solve(Matrix, Rhs) \n",
    "    return Sol"
   ]
  },
  {
   "cell_type": "markdown",
   "metadata": {},
   "source": [
    "We now compute the solution"
   ]
  },
  {
   "cell_type": "code",
   "execution_count": 6,
   "metadata": {},
   "outputs": [],
   "source": [
    "def compute_model(k, Order, NrOfElem, DuctLength, l, R0=0.5, Al=1.):\n",
    "    from ExternalFunctions import GetSolutionOnSubgrid \n",
    "    from AnalyticalSolutions import spherical_hankel\n",
    "    h = DuctLength/NrOfElem # mesh size\n",
    "    d_lambda = 2*math.pi/(k*h)*Order # nr of dofs per wavelength\n",
    "    # first create the mesh and the Dofs list\n",
    "    NrOfNodes, Coord, Element, NrOfDofs, DofNode, DofElement = initiate(DuctLength,NrOfElem,Order,R0)\n",
    "    # then assemble the matrix\n",
    "    Matrix = assemble_matrix(NrOfDofs,NrOfElem,Order,Coord,Element,DofElement,k,l)\n",
    "    # now apply impedance boundary condition at last node\n",
    "    Matrix = assemble_impedance(Matrix,DofNode,NrOfNodes,k,R0,DuctLength)\n",
    "    # assemble RHS\n",
    "    Rhs = assemble_rhs(NrOfDofs,DofNode,k,R0,l,Al)\n",
    "    # solve the sparse system of equations \n",
    "    Sol = solve(Matrix,Rhs)\n",
    "    # compute the solution on a subgrid \n",
    "    Lambda = 2*math.pi/k; NrOfWavesOnDomain = DuctLength/Lambda\n",
    "    x_sub, u_h_sub = GetSolutionOnSubgrid(Sol, Order, Coord, Element, NrOfElem, DofElement, NrOfWavesOnDomain)\n",
    "    # exact solution on subgrid \n",
    "    u_exact_sub = Al*spherical_hankel(l,k*x_sub)\n",
    "    return x_sub, u_h_sub, u_exact_sub, NrOfDofs, d_lambda, Sol, Coord, Element"
   ]
  },
  {
   "cell_type": "markdown",
   "metadata": {},
   "source": [
    "Plotting feature"
   ]
  },
  {
   "cell_type": "code",
   "execution_count": 7,
   "metadata": {},
   "outputs": [],
   "source": [
    "def plot_result(x_sub, u_h_sub, u_exact_sub, NrOfDofs, d_lambda, NrOfElem, Coord, Element, Order):\n",
    "    fig, ax = plt.subplots(nrows=1, ncols=1, figsize=(12, 4), tight_layout=True)\n",
    "    ax.plot(x_sub, np.real(u_h_sub), label=\"$Re(u_h)$\",linewidth=2)\n",
    "    ax.plot(x_sub, np.real(u_exact_sub), label=\"$Re(u_{exact})$\",linewidth=2) \n",
    "    ax.legend(loc=\"best\",fontsize=16)\n",
    "    ax.set(xlabel=r'$x$', ylabel=r'real part',\n",
    "           title='NrOfDofs = '+str(NrOfDofs) + ', ($d_\\lambda$=%1.4g' %d_lambda +' Dofs per wavelength)')\n",
    "    plt.show()\n",
    "\n",
    "def compute_interactive(k, Order, NrOfElem, DuctLength, l):\n",
    "    x_sub, u_h_sub, u_exact_sub, NrOfDofs, d_lambda, Sol, Coord, Element = compute_model(k, Order, NrOfElem, DuctLength, l)\n",
    "    plot_result(x_sub, u_h_sub, u_exact_sub, NrOfDofs, d_lambda, NrOfElem, Coord, Element, Order)\n",
    "\t# error in the L2 norm\n",
    "    E2 = np.linalg.norm(u_h_sub - u_exact_sub)/np.linalg.norm(u_exact_sub)*100\n",
    "    print('-' *100 +'\\n'+' Numerical error (L2-norm) is %1.4g' %E2 + ' % \\n' +'-' *100)"
   ]
  },
  {
   "cell_type": "code",
   "execution_count": 8,
   "metadata": {},
   "outputs": [
    {
     "data": {
      "application/vnd.jupyter.widget-view+json": {
       "model_id": "d75a500038a84fa28d14bf539416acc9",
       "version_major": 2,
       "version_minor": 0
      },
      "text/plain": [
       "interactive(children=(IntSlider(value=10, description='k', max=50, min=1), IntSlider(value=3, description='Ord…"
      ]
     },
     "metadata": {},
     "output_type": "display_data"
    }
   ],
   "source": [
    "# parameters of the problem\n",
    "# R0: input radius\n",
    "# l: spatial mode\n",
    "# Al: modal amplitude of the analytical solution\n",
    "# k: wavenumber\n",
    "\n",
    "interactive_plot = interactive(compute_interactive, k=widgets.IntSlider(value=10, min=1, max=50, description='k'),\n",
    "                               Order=widgets.IntSlider(value=3, min=1, max=8, description='Order'),\n",
    "                               NrOfElem=widgets.IntSlider(value=20, min=1, max=200, description='Nb of Elts'),\n",
    "                               DuctLength=widgets.IntSlider(value=1, min=1, max=5, description='Duct length'),\n",
    "\t\t\t\t\t\t\t   l=widgets.IntSlider(value=0, min=0, max=30, description='Harmonic'))\n",
    "output = interactive_plot.children[-1]\n",
    "output.layout.height = '350px'\n",
    "interactive_plot"
   ]
  }
 ],
 "metadata": {
  "kernelspec": {
   "display_name": "Python 3.9.2 64-bit",
   "language": "python",
   "name": "python3"
  },
  "language_info": {
   "codemirror_mode": {
    "name": "ipython",
    "version": 3
   },
   "file_extension": ".py",
   "mimetype": "text/x-python",
   "name": "python",
   "nbconvert_exporter": "python",
   "pygments_lexer": "ipython3",
   "version": "3.9.2"
  },
  "orig_nbformat": 4,
  "vscode": {
   "interpreter": {
    "hash": "31f2aee4e71d21fbe5cf8b01ff0e069b9275f58929596ceb00d14d90e3e16cd6"
   }
  }
 },
 "nbformat": 4,
 "nbformat_minor": 2
}
