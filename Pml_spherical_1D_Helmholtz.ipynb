{
 "cells": [
  {
   "cell_type": "code",
   "execution_count": 27,
   "metadata": {},
   "outputs": [],
   "source": [
    "import numpy as np\n",
    "import matplotlib.pyplot as plt\n",
    "# for dark theme aficionados\n",
    "plt.style.use('dark_background')\n",
    "# parameters of the problem\n",
    "l = 0 # spatial mode\n",
    "R0 = 0.1 # input radius\n",
    "DuctLength = 1\n",
    "R = R0 + DuctLength\n",
    "delta = 0.4 # pml width\n",
    "R_PML = R + delta\n",
    "r = np.linspace(R0, R_PML, 200) + 0*1j\n",
    "Al = 1. # boundary condition at r=R0\n",
    "k = 25 # wavenumber"
   ]
  },
  {
   "cell_type": "markdown",
   "metadata": {},
   "source": [
    "In this example, we solve again the 1D spherical Helmholtz problem but terminate the domain by a Perfectly Matched Layer (PML). The global domain is split into\n",
    "- the *physical domain*, $r \\in [R_0,R]$\n",
    "- the *PML domain*, $r \\in [R,R_{pml}]$\n",
    "\n",
    "The PML domain is termniated by a homogeneous Neumann boundary condition at $r=R_{pml}$"
   ]
  },
  {
   "cell_type": "markdown",
   "metadata": {},
   "source": [
    "# Analytical solution with PML\n",
    "\n",
    "Let us first extend the analytical solution in the PML thanks to the radial complex stretching, that is\n",
    "\n",
    "$$ \\tilde{u}_{\\text{ex}}(r) = A_{\\ell} h^{(1)}_{\\ell} (k\\tilde{r}), \\quad \\tilde{r} = r + \\frac{F(\\xi)}{\\imath k}, \\; \\xi \\in [0,1) $$\n",
    "\n",
    "where $F$ is the PML stretching function. For the example let us use an unbounded stretching of the form $F(\\xi) = \\log(1-\\xi)$"
   ]
  },
  {
   "cell_type": "code",
   "execution_count": 28,
   "metadata": {},
   "outputs": [],
   "source": [
    "def F(xi):\n",
    "\treturn np.log(1-xi)\n",
    "def Fprime(xi):\n",
    "\treturn -1/(1-xi)\n",
    "\n",
    "xi = (r - R) / delta # linear mapping between \\xi in [0,1] and r_pml in [R, R_pml]\n",
    "r_tilde = np.piecewise(r, [r < R, r >= R], [lambda r: r, lambda r: r + F((r-R)/delta)/(1j*k)])"
   ]
  },
  {
   "cell_type": "code",
   "execution_count": 29,
   "metadata": {},
   "outputs": [
    {
     "data": {
      "text/plain": [
       "<matplotlib.collections.LineCollection at 0x7f7f9314f9a0>"
      ]
     },
     "execution_count": 29,
     "metadata": {},
     "output_type": "execute_result"
    },
    {
     "data": {
      "image/png": "[encoded data removed]",
      "text/plain": [
       "<Figure size 864x288 with 2 Axes>"
      ]
     },
     "metadata": {},
     "output_type": "display_data"
    }
   ],
   "source": [
    "from AnalyticalSolutions import spherical_hankel\n",
    "u_ex = Al*spherical_hankel(l,k*r_tilde)\n",
    "\n",
    "fig, (ax1, ax2) = plt.subplots(1, 2)\n",
    "fig.set_figwidth(12)\n",
    "fig.suptitle('Real and imaginary parts of the analytical solution')\n",
    "ax1.plot(np.real(r), np.real(u_ex), 'b')\n",
    "ax1.vlines(R, np.min(np.real(u_ex)), np.max(np.real(u_ex)), linestyles =\"dashed\", colors =\"w\")\n",
    "ax2.plot(np.real(r), np.imag(u_ex), 'b')\n",
    "ax2.vlines(R, np.min(np.imag(u_ex)), np.max(np.imag(u_ex)), linestyles =\"dashed\", colors =\"w\")\n"
   ]
  },
  {
   "cell_type": "markdown",
   "metadata": {},
   "source": [
    "# Numerical resolution\n",
    "\n",
    "For the weak formulation in the PML domain, we simply perform the complex change of variables, which leads to:\n",
    "\n",
    "Find $u \\in H^1(\\Omega_{pml})$ such that:\n",
    "\n",
    "$$ \\forall v \\in H^1(\\Omega_{pml}), \\quad \\int_{R}^{R_{pml}} \\left\\{ \\frac{1}{\\gamma_r^2} \\frac{d u}{d r} \\overline{\\frac{d v}{d r}} - \\frac{1}{\\gamma_r} \\frac{2}{\\tilde{r}}  \\frac{d u}{d r} \\overline{v} - \\left(k^2 - \\frac{\\ell(\\ell+1)}{\\tilde{r}^2}\\right) u \\overline{v} \\right\\} \\, \\gamma_r \\text{d}r  = 0$$\n",
    "\n",
    "In order to implement the weak formulation, we need \n",
    "\n",
    "$\\tilde{r} = r + \\frac{F(\\xi)}{\\imath k}$ and $\\gamma_r = \\frac{d\\tilde{r}}{dr} = 1 + \\frac{F'(\\xi)}{\\imath \\delta k}$\n",
    "\n",
    "that is we only need to know $F(\\xi)$ and $F'(\\xi)$ for the normalized PML variable $\\xi$. These quantities can be evaluated at the integration points when performing the numerical quadrature."
   ]
  },
  {
   "cell_type": "code",
   "execution_count": 30,
   "metadata": {},
   "outputs": [],
   "source": [
    "from ExternalFunctions import CreateDofs\n",
    "from ExternalPmlFunctions import Mesh1D_PML\n",
    "def initiate(DuctLength, NrOfElem, NrOfElemPML, Order, R0, delta):\n",
    "    NrOfNodes, Coord, Element = Mesh1D_PML(DuctLength, NrOfElem, R0, R0+DuctLength, NrOfElemPML, delta)\n",
    "    NrOfDofs, DofNode, DofElement = CreateDofs(NrOfNodes,NrOfElem+NrOfElemPML,Element,Order)\n",
    "    return NrOfNodes, Coord, Element, NrOfDofs, DofNode, DofElement"
   ]
  },
  {
   "cell_type": "code",
   "execution_count": 31,
   "metadata": {},
   "outputs": [],
   "source": [
    "def assemble_matrix(NrOfDofs,NrOfElem,Order,Coord,Element,DofElement, k, l, R):\n",
    "    from ExternalPmlFunctions import MassAndStiffness_spherical_1D_PML\n",
    "    Matrix = np.zeros((NrOfDofs,NrOfDofs), dtype=np.complex128)\n",
    "    for iElem in np.arange(1,NrOfElem+1):\n",
    "        # call the function returning the mass and stifness element matrices\n",
    "        Ke, Ce, Me, Me_r2 = MassAndStiffness_spherical_1D_PML(iElem, Order, Coord, Element, F, Fprime, delta, R, k)\n",
    "        ElemDofs = (DofElement[:,iElem-1]).astype(int)\n",
    "        # assemble\n",
    "        Matrix[np.ix_(ElemDofs,ElemDofs)] += Ke - 2*Ce - k**2*Me + (l*(l+1))*Me_r2\n",
    "    return Matrix"
   ]
  },
  {
   "cell_type": "code",
   "execution_count": 32,
   "metadata": {},
   "outputs": [],
   "source": [
    "def assemble_rhs(NrOfDofs,DofNode, k, l, R0, Al):\n",
    "    from AnalyticalSolutions import d_spherical_hankel\n",
    "    # and the velocity at first node\n",
    "    Rhs = np.zeros((NrOfDofs,1), dtype=np.complex128)\n",
    "    Rhs[DofNode[0]] = -Al*k*d_spherical_hankel(l,k*R0)\n",
    "    return Rhs\n",
    "\n",
    "def solve(Matrix, Rhs):\n",
    "    # solve the sparse system of equations \n",
    "    Sol = np.linalg.solve(Matrix, Rhs) \n",
    "    return Sol"
   ]
  },
  {
   "cell_type": "code",
   "execution_count": 33,
   "metadata": {},
   "outputs": [],
   "source": [
    "def compute_model(k, Order, NrOfElem, DuctLength, l, R0=0.1, NrOfElemPML=4):\n",
    "    from ExternalFunctions import GetSolutionOnSubgrid\n",
    "    h = DuctLength/NrOfElem # mesh size\n",
    "    R = R0 + DuctLength\n",
    "    d_lambda = 2*np.pi/(k*h)*Order # nr of dofs per wavelength\n",
    "    # first create the mesh and the Dofs list\n",
    "    NrOfNodes, Coord, Element, NrOfDofs, DofNode, DofElement = initiate(DuctLength, NrOfElem, NrOfElemPML, Order, R0, delta)\n",
    "    # then assemble the matrix\n",
    "    Matrix = assemble_matrix(NrOfDofs,NrOfElem+NrOfElemPML,Order,Coord,Element,DofElement, k, l, R)\n",
    "    # assemble RHS\n",
    "    Rhs = assemble_rhs(NrOfDofs,DofNode, k, l, R0, Al)\n",
    "    # solve the sparse system of equations \n",
    "    Sol = solve(Matrix, Rhs)\n",
    "    # compute the solution on a subgrid \n",
    "    Lambda = 2*np.pi/k; NrOfWavesOnDomain = DuctLength/Lambda\n",
    "    x_sub_tot, u_h_sub_tilde = GetSolutionOnSubgrid(Sol, Order, Coord, Element, NrOfElem+NrOfElemPML, DofElement, NrOfWavesOnDomain)\n",
    "    x_sub, u_h_sub = GetSolutionOnSubgrid(Sol, Order, Coord, Element, NrOfElem, DofElement, NrOfWavesOnDomain)\n",
    "    # exact solution on subgrid \n",
    "    x_sub_tot = x_sub_tot+0*1j\n",
    "    x_sub_tilde = np.piecewise(x_sub_tot, [x_sub_tot < R, x_sub_tot >= R], [lambda r: r, lambda r: r + F((r-R)/delta)/(1j*k)])\n",
    "    u_exact_sub_tilde = Al*spherical_hankel(l,k*x_sub_tilde)\n",
    "    u_exact_sub = Al*spherical_hankel(l,k*x_sub)\n",
    "    return x_sub, x_sub_tot, u_h_sub, u_h_sub_tilde, u_exact_sub, u_exact_sub_tilde, NrOfDofs, d_lambda, Sol, Coord, Element"
   ]
  },
  {
   "cell_type": "code",
   "execution_count": 34,
   "metadata": {},
   "outputs": [],
   "source": [
    "def plot_result(x_sub, u_h_sub, u_exact_sub, NrOfDofs, d_lambda, NrOfElem, Coord, Element, Order):\n",
    "    fig, ax = plt.subplots(nrows=1, ncols=1, figsize=(12, 4), tight_layout=True)\n",
    "    ax.plot(np.real(x_sub), np.real(u_h_sub), label=\"$Re(u_h)$\",linewidth=2)\n",
    "    ax.plot(np.real(x_sub), np.real(u_exact_sub), label=\"$Re(u_{exact})$\",linewidth=2) \n",
    "    ax.legend(loc=\"best\",fontsize=16)\n",
    "    ax.set(xlabel=r'$x$', ylabel=r'real part',\n",
    "           title='NrOfDofs = '+str(NrOfDofs) + ', ($d_\\lambda$=%1.4g' %d_lambda +' Dofs per wavelength)')\n",
    "    plt.show()\n",
    "\n",
    "def compute_interactive(k, Order, NrOfElem, DuctLength, l):\n",
    "    x_sub, x_sub_tot, u_h_sub, u_h_sub_tilde, u_exact_sub, u_exact_sub_tilde, NrOfDofs, d_lambda, Sol, Coord, Element = compute_model(k, Order, NrOfElem, DuctLength, l, R0, 4)\n",
    "    plot_result(x_sub_tot, u_h_sub_tilde, u_exact_sub_tilde, NrOfDofs, d_lambda, NrOfElem, Coord, Element, Order)\n",
    "    E2 = np.linalg.norm(u_h_sub - u_exact_sub)/np.linalg.norm(u_exact_sub)*100\n",
    "    print('-' *100 +'\\n'+' Physical domain: Numerical error is %1.4g' %E2 + ' % \\n' +'-' *100)\n",
    "    E2_tot = np.linalg.norm(u_h_sub_tilde - u_exact_sub_tilde)/np.linalg.norm(u_exact_sub_tilde)*100\n",
    "    print('-' *100 +'\\n'+' Global domain: Numerical error is %1.4g' %E2_tot + ' % \\n' +'-' *100)"
   ]
  },
  {
   "cell_type": "code",
   "execution_count": 35,
   "metadata": {},
   "outputs": [
    {
     "data": {
      "application/vnd.jupyter.widget-view+json": {
       "model_id": "3a75cced4ac840e397901d01f10eda02",
       "version_major": 2,
       "version_minor": 0
      },
      "text/plain": [
       "interactive(children=(IntSlider(value=6, description='Frequency', max=50, min=1), IntSlider(value=3, descripti…"
      ]
     },
     "metadata": {},
     "output_type": "display_data"
    }
   ],
   "source": [
    "from ipywidgets import interactive\n",
    "import ipywidgets as widgets\n",
    "interactive_plot = interactive(compute_interactive, k=widgets.IntSlider(value=6, min=1, max=50, description='Frequency'),\n",
    "                               Order=widgets.IntSlider(value=3, min=1, max=8, description='Order'),\n",
    "                               NrOfElem=widgets.IntSlider(value=20, min=1, max=200, description='Nb of Elts'),\n",
    "                               DuctLength=widgets.IntSlider(value=1, min=1, max=5, description='Duct length'),\n",
    "\t\t\t\t\t\t\t   l=widgets.IntSlider(value=0, min=0, max=20, description='Harmonic'))\n",
    "output = interactive_plot.children[-1]\n",
    "output.layout.height = '350px'\n",
    "interactive_plot"
   ]
  }
 ],
 "metadata": {
  "kernelspec": {
   "display_name": "Python 3.9.2 64-bit",
   "language": "python",
   "name": "python3"
  },
  "language_info": {
   "codemirror_mode": {
    "name": "ipython",
    "version": 3
   },
   "file_extension": ".py",
   "mimetype": "text/x-python",
   "name": "python",
   "nbconvert_exporter": "python",
   "pygments_lexer": "ipython3",
   "version": "3.9.2"
  },
  "orig_nbformat": 4,
  "vscode": {
   "interpreter": {
    "hash": "31f2aee4e71d21fbe5cf8b01ff0e069b9275f58929596ceb00d14d90e3e16cd6"
   }
  }
 },
 "nbformat": 4,
 "nbformat_minor": 2
}
